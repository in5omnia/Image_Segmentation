{
 "cells": [
  {
   "cell_type": "code",
   "execution_count": null,
   "metadata": {},
   "outputs": [
    {
     "name": "stdout",
     "output_type": "stream",
     "text": [
      "Checkpoint file not found at unet/unet_no_weight_small_aug.pytorch. Starting training from scratch.\n",
      "\n",
      "Starting Training (nnU-Net style)...\n",
      "Epoch 1\n",
      "-------------------------------\n"
     ]
    },
    {
     "name": "stderr",
     "output_type": "stream",
     "text": [
      "Training: 100%|██████████| 398/398 [04:09<00:00,  1.60it/s, loss=0.775, lr=0.00991]\n"
     ]
    },
    {
     "name": "stdout",
     "output_type": "stream",
     "text": [
      "Training Avg loss (per effective batch): 0.500867\n",
      "End of Epoch LR: 0.009910\n"
     ]
    },
    {
     "name": "stderr",
     "output_type": "stream",
     "text": [
      "Eval: 100%|██████████| 47/47 [00:13<00:00,  3.55it/s]\n"
     ]
    },
    {
     "name": "stdout",
     "output_type": "stream",
     "text": [
      "\n",
      "--- Evaluation Complete ---\n",
      "  Images Processed: 738\n",
      "  Average Loss (Original Size): 0.576704\n",
      "  Micro Avg Dice Score (3 classes): 0.655838\n",
      "  Macro Avg Dice Score (3 classes): 0.457748\n",
      "  Mean IoU (mIoU) (3 classes): 0.374184\n",
      "  --- Per-Class IoU ---\n",
      "    Class 0: 0.739575\n",
      "    Class 1: 0.122817\n",
      "    Class 2: 0.260159\n",
      "    Class 3: Ignored\n",
      "-------------------------\n",
      "Validation Micro Dice score improved (0.655838). Saving model...\n",
      "Epoch 2\n",
      "-------------------------------\n"
     ]
    },
    {
     "name": "stderr",
     "output_type": "stream",
     "text": [
      "Training: 100%|██████████| 398/398 [04:08<00:00,  1.60it/s, loss=0.639, lr=0.00982]  \n"
     ]
    },
    {
     "name": "stdout",
     "output_type": "stream",
     "text": [
      "Training Avg loss (per effective batch): 0.190944\n",
      "End of Epoch LR: 0.009820\n"
     ]
    },
    {
     "name": "stderr",
     "output_type": "stream",
     "text": [
      "Eval: 100%|██████████| 47/47 [00:12<00:00,  3.73it/s]\n"
     ]
    },
    {
     "name": "stdout",
     "output_type": "stream",
     "text": [
      "\n",
      "--- Evaluation Complete ---\n",
      "  Images Processed: 738\n",
      "  Average Loss (Original Size): 0.335277\n",
      "  Micro Avg Dice Score (3 classes): 0.694780\n",
      "  Macro Avg Dice Score (3 classes): 0.512560\n",
      "  Mean IoU (mIoU) (3 classes): 0.430796\n",
      "  --- Per-Class IoU ---\n",
      "    Class 0: 0.810349\n",
      "    Class 1: 0.252892\n",
      "    Class 2: 0.229149\n",
      "    Class 3: Ignored\n",
      "-------------------------\n",
      "Validation Micro Dice score improved (0.694780). Saving model...\n",
      "Epoch 3\n",
      "-------------------------------\n"
     ]
    },
    {
     "name": "stderr",
     "output_type": "stream",
     "text": [
      "Training: 100%|██████████| 398/398 [04:09<00:00,  1.60it/s, loss=-0.111, lr=0.00973]   \n"
     ]
    },
    {
     "name": "stdout",
     "output_type": "stream",
     "text": [
      "Training Avg loss (per effective batch): 0.019327\n",
      "End of Epoch LR: 0.009730\n"
     ]
    },
    {
     "name": "stderr",
     "output_type": "stream",
     "text": [
      "Eval: 100%|██████████| 47/47 [00:12<00:00,  3.76it/s]\n"
     ]
    },
    {
     "name": "stdout",
     "output_type": "stream",
     "text": [
      "\n",
      "--- Evaluation Complete ---\n",
      "  Images Processed: 738\n",
      "  Average Loss (Original Size): 0.075440\n",
      "  Micro Avg Dice Score (3 classes): 0.749203\n",
      "  Macro Avg Dice Score (3 classes): 0.625880\n",
      "  Mean IoU (mIoU) (3 classes): 0.547419\n",
      "  --- Per-Class IoU ---\n",
      "    Class 0: 0.844952\n",
      "    Class 1: 0.343510\n",
      "    Class 2: 0.453794\n",
      "    Class 3: Ignored\n",
      "-------------------------\n",
      "Validation Micro Dice score improved (0.749203). Saving model...\n",
      "Epoch 4\n",
      "-------------------------------\n"
     ]
    },
    {
     "name": "stderr",
     "output_type": "stream",
     "text": [
      "Training: 100%|██████████| 398/398 [04:08<00:00,  1.60it/s, loss=0.206, lr=0.00964]   \n"
     ]
    },
    {
     "name": "stdout",
     "output_type": "stream",
     "text": [
      "Training Avg loss (per effective batch): -0.077490\n",
      "End of Epoch LR: 0.009639\n"
     ]
    },
    {
     "name": "stderr",
     "output_type": "stream",
     "text": [
      "Eval: 100%|██████████| 47/47 [00:12<00:00,  3.80it/s]\n"
     ]
    },
    {
     "name": "stdout",
     "output_type": "stream",
     "text": [
      "\n",
      "--- Evaluation Complete ---\n",
      "  Images Processed: 738\n",
      "  Average Loss (Original Size): 0.004317\n",
      "  Micro Avg Dice Score (3 classes): 0.807107\n",
      "  Macro Avg Dice Score (3 classes): 0.679016\n",
      "  Mean IoU (mIoU) (3 classes): 0.594098\n",
      "  --- Per-Class IoU ---\n",
      "    Class 0: 0.874591\n",
      "    Class 1: 0.338746\n",
      "    Class 2: 0.568957\n",
      "    Class 3: Ignored\n",
      "-------------------------\n",
      "Validation Micro Dice score improved (0.807107). Saving model...\n",
      "Epoch 5\n",
      "-------------------------------\n"
     ]
    },
    {
     "name": "stderr",
     "output_type": "stream",
     "text": [
      "Training: 100%|██████████| 398/398 [04:08<00:00,  1.60it/s, loss=0.837, lr=0.00955]  \n"
     ]
    },
    {
     "name": "stdout",
     "output_type": "stream",
     "text": [
      "Training Avg loss (per effective batch): -0.167482\n",
      "End of Epoch LR: 0.009549\n"
     ]
    },
    {
     "name": "stderr",
     "output_type": "stream",
     "text": [
      "Eval: 100%|██████████| 47/47 [00:12<00:00,  3.76it/s]\n"
     ]
    },
    {
     "name": "stdout",
     "output_type": "stream",
     "text": [
      "\n",
      "--- Evaluation Complete ---\n",
      "  Images Processed: 738\n",
      "  Average Loss (Original Size): 0.322515\n",
      "  Micro Avg Dice Score (3 classes): 0.693189\n",
      "  Macro Avg Dice Score (3 classes): 0.615814\n",
      "  Mean IoU (mIoU) (3 classes): 0.507474\n",
      "  --- Per-Class IoU ---\n",
      "    Class 0: 0.740426\n",
      "    Class 1: 0.315848\n",
      "    Class 2: 0.466148\n",
      "    Class 3: Ignored\n",
      "-------------------------\n",
      "Validation Micro Dice score did not improve from 0.807107\n",
      "Epoch 6\n",
      "-------------------------------\n"
     ]
    },
    {
     "name": "stderr",
     "output_type": "stream",
     "text": [
      "Training: 100%|██████████| 398/398 [04:08<00:00,  1.60it/s, loss=0.308, lr=0.00946]   \n"
     ]
    },
    {
     "name": "stdout",
     "output_type": "stream",
     "text": [
      "Training Avg loss (per effective batch): -0.241180\n",
      "End of Epoch LR: 0.009458\n"
     ]
    },
    {
     "name": "stderr",
     "output_type": "stream",
     "text": [
      "Eval: 100%|██████████| 47/47 [00:12<00:00,  3.76it/s]\n"
     ]
    },
    {
     "name": "stdout",
     "output_type": "stream",
     "text": [
      "\n",
      "--- Evaluation Complete ---\n",
      "  Images Processed: 738\n",
      "  Average Loss (Original Size): -0.073292\n",
      "  Micro Avg Dice Score (3 classes): 0.818410\n",
      "  Macro Avg Dice Score (3 classes): 0.736577\n",
      "  Mean IoU (mIoU) (3 classes): 0.662429\n",
      "  --- Per-Class IoU ---\n",
      "    Class 0: 0.865792\n",
      "    Class 1: 0.487449\n",
      "    Class 2: 0.634046\n",
      "    Class 3: Ignored\n",
      "-------------------------\n",
      "Validation Micro Dice score improved (0.818410). Saving model...\n",
      "Epoch 7\n",
      "-------------------------------\n"
     ]
    },
    {
     "name": "stderr",
     "output_type": "stream",
     "text": [
      "Training: 100%|██████████| 398/398 [04:08<00:00,  1.60it/s, loss=0.214, lr=0.00937]  \n"
     ]
    },
    {
     "name": "stdout",
     "output_type": "stream",
     "text": [
      "Training Avg loss (per effective batch): -0.289626\n",
      "End of Epoch LR: 0.009368\n"
     ]
    },
    {
     "name": "stderr",
     "output_type": "stream",
     "text": [
      "Eval: 100%|██████████| 47/47 [00:12<00:00,  3.79it/s]\n"
     ]
    },
    {
     "name": "stdout",
     "output_type": "stream",
     "text": [
      "\n",
      "--- Evaluation Complete ---\n",
      "  Images Processed: 738\n",
      "  Average Loss (Original Size): -0.103328\n",
      "  Micro Avg Dice Score (3 classes): 0.838326\n",
      "  Macro Avg Dice Score (3 classes): 0.760466\n",
      "  Mean IoU (mIoU) (3 classes): 0.677846\n",
      "  --- Per-Class IoU ---\n",
      "    Class 0: 0.886244\n",
      "    Class 1: 0.526639\n",
      "    Class 2: 0.620655\n",
      "    Class 3: Ignored\n",
      "-------------------------\n",
      "Validation Micro Dice score improved (0.838326). Saving model...\n",
      "Epoch 8\n",
      "-------------------------------\n"
     ]
    },
    {
     "name": "stderr",
     "output_type": "stream",
     "text": [
      "Training: 100%|██████████| 398/398 [04:08<00:00,  1.60it/s, loss=0.272, lr=0.00928]  \n"
     ]
    },
    {
     "name": "stdout",
     "output_type": "stream",
     "text": [
      "Training Avg loss (per effective batch): -0.337498\n",
      "End of Epoch LR: 0.009277\n"
     ]
    },
    {
     "name": "stderr",
     "output_type": "stream",
     "text": [
      "Eval: 100%|██████████| 47/47 [00:12<00:00,  3.78it/s]\n"
     ]
    },
    {
     "name": "stdout",
     "output_type": "stream",
     "text": [
      "\n",
      "--- Evaluation Complete ---\n",
      "  Images Processed: 738\n",
      "  Average Loss (Original Size): -0.163413\n",
      "  Micro Avg Dice Score (3 classes): 0.866192\n",
      "  Macro Avg Dice Score (3 classes): 0.799406\n",
      "  Mean IoU (mIoU) (3 classes): 0.720361\n",
      "  --- Per-Class IoU ---\n",
      "    Class 0: 0.900175\n",
      "    Class 1: 0.592121\n",
      "    Class 2: 0.668785\n",
      "    Class 3: Ignored\n",
      "-------------------------\n",
      "Validation Micro Dice score improved (0.866192). Saving model...\n",
      "Epoch 9\n",
      "-------------------------------\n"
     ]
    },
    {
     "name": "stderr",
     "output_type": "stream",
     "text": [
      "Training: 100%|██████████| 398/398 [04:08<00:00,  1.60it/s, loss=-0.00295, lr=0.00919]\n"
     ]
    },
    {
     "name": "stdout",
     "output_type": "stream",
     "text": [
      "Training Avg loss (per effective batch): -0.408843\n",
      "End of Epoch LR: 0.009186\n"
     ]
    },
    {
     "name": "stderr",
     "output_type": "stream",
     "text": [
      "Eval: 100%|██████████| 47/47 [00:12<00:00,  3.76it/s]\n"
     ]
    },
    {
     "name": "stdout",
     "output_type": "stream",
     "text": [
      "\n",
      "--- Evaluation Complete ---\n",
      "  Images Processed: 738\n",
      "  Average Loss (Original Size): -0.155538\n",
      "  Micro Avg Dice Score (3 classes): 0.867025\n",
      "  Macro Avg Dice Score (3 classes): 0.805173\n",
      "  Mean IoU (mIoU) (3 classes): 0.726491\n",
      "  --- Per-Class IoU ---\n",
      "    Class 0: 0.896796\n",
      "    Class 1: 0.588498\n",
      "    Class 2: 0.694178\n",
      "    Class 3: Ignored\n",
      "-------------------------\n",
      "Validation Micro Dice score improved (0.867025). Saving model...\n",
      "Epoch 10\n",
      "-------------------------------\n"
     ]
    },
    {
     "name": "stderr",
     "output_type": "stream",
     "text": [
      "Training: 100%|██████████| 398/398 [04:09<00:00,  1.60it/s, loss=1.89, lr=0.0091]   \n"
     ]
    },
    {
     "name": "stdout",
     "output_type": "stream",
     "text": [
      "Training Avg loss (per effective batch): -0.438472\n",
      "End of Epoch LR: 0.009095\n"
     ]
    },
    {
     "name": "stderr",
     "output_type": "stream",
     "text": [
      "Eval: 100%|██████████| 47/47 [00:12<00:00,  3.73it/s]\n"
     ]
    },
    {
     "name": "stdout",
     "output_type": "stream",
     "text": [
      "\n",
      "--- Evaluation Complete ---\n",
      "  Images Processed: 738\n",
      "  Average Loss (Original Size): 0.136403\n",
      "  Micro Avg Dice Score (3 classes): 0.804869\n",
      "  Macro Avg Dice Score (3 classes): 0.752600\n",
      "  Mean IoU (mIoU) (3 classes): 0.639200\n",
      "  --- Per-Class IoU ---\n",
      "    Class 0: 0.782882\n",
      "    Class 1: 0.457994\n",
      "    Class 2: 0.676723\n",
      "    Class 3: Ignored\n",
      "-------------------------\n",
      "Validation Micro Dice score did not improve from 0.867025\n",
      "Epoch 11\n",
      "-------------------------------\n"
     ]
    },
    {
     "name": "stderr",
     "output_type": "stream",
     "text": [
      "Training: 100%|██████████| 398/398 [04:09<00:00,  1.59it/s, loss=1.55, lr=0.009]    \n"
     ]
    },
    {
     "name": "stdout",
     "output_type": "stream",
     "text": [
      "Training Avg loss (per effective batch): -0.437700\n",
      "End of Epoch LR: 0.009004\n"
     ]
    },
    {
     "name": "stderr",
     "output_type": "stream",
     "text": [
      "Eval: 100%|██████████| 47/47 [00:12<00:00,  3.74it/s]\n"
     ]
    },
    {
     "name": "stdout",
     "output_type": "stream",
     "text": [
      "\n",
      "--- Evaluation Complete ---\n",
      "  Images Processed: 738\n",
      "  Average Loss (Original Size): -0.064057\n",
      "  Micro Avg Dice Score (3 classes): 0.854255\n",
      "  Macro Avg Dice Score (3 classes): 0.781148\n",
      "  Mean IoU (mIoU) (3 classes): 0.686596\n",
      "  --- Per-Class IoU ---\n",
      "    Class 0: 0.898006\n",
      "    Class 1: 0.553826\n",
      "    Class 2: 0.607956\n",
      "    Class 3: Ignored\n",
      "-------------------------\n",
      "Validation Micro Dice score did not improve from 0.867025\n",
      "Epoch 12\n",
      "-------------------------------\n"
     ]
    },
    {
     "name": "stderr",
     "output_type": "stream",
     "text": [
      "Training: 100%|██████████| 398/398 [04:09<00:00,  1.59it/s, loss=1.96, lr=0.00891]  \n"
     ]
    },
    {
     "name": "stdout",
     "output_type": "stream",
     "text": [
      "Training Avg loss (per effective batch): -0.513848\n",
      "End of Epoch LR: 0.008913\n"
     ]
    },
    {
     "name": "stderr",
     "output_type": "stream",
     "text": [
      "Eval: 100%|██████████| 47/47 [00:12<00:00,  3.77it/s]\n"
     ]
    },
    {
     "name": "stdout",
     "output_type": "stream",
     "text": [
      "\n",
      "--- Evaluation Complete ---\n",
      "  Images Processed: 738\n",
      "  Average Loss (Original Size): -0.187004\n",
      "  Micro Avg Dice Score (3 classes): 0.885196\n",
      "  Macro Avg Dice Score (3 classes): 0.826496\n",
      "  Mean IoU (mIoU) (3 classes): 0.746285\n",
      "  --- Per-Class IoU ---\n",
      "    Class 0: 0.907147\n",
      "    Class 1: 0.619978\n",
      "    Class 2: 0.711730\n",
      "    Class 3: Ignored\n",
      "-------------------------\n",
      "Validation Micro Dice score improved (0.885196). Saving model...\n",
      "Epoch 13\n",
      "-------------------------------\n"
     ]
    },
    {
     "name": "stderr",
     "output_type": "stream",
     "text": [
      "Training: 100%|██████████| 398/398 [04:09<00:00,  1.59it/s, loss=0.111, lr=0.00882] \n"
     ]
    },
    {
     "name": "stdout",
     "output_type": "stream",
     "text": [
      "Training Avg loss (per effective batch): -0.558373\n",
      "End of Epoch LR: 0.008822\n"
     ]
    },
    {
     "name": "stderr",
     "output_type": "stream",
     "text": [
      "Eval: 100%|██████████| 47/47 [00:12<00:00,  3.74it/s]\n"
     ]
    },
    {
     "name": "stdout",
     "output_type": "stream",
     "text": [
      "\n",
      "--- Evaluation Complete ---\n",
      "  Images Processed: 738\n",
      "  Average Loss (Original Size): -0.198016\n",
      "  Micro Avg Dice Score (3 classes): 0.891067\n",
      "  Macro Avg Dice Score (3 classes): 0.833574\n",
      "  Mean IoU (mIoU) (3 classes): 0.755763\n",
      "  --- Per-Class IoU ---\n",
      "    Class 0: 0.910917\n",
      "    Class 1: 0.620719\n",
      "    Class 2: 0.735653\n",
      "    Class 3: Ignored\n",
      "-------------------------\n",
      "Validation Micro Dice score improved (0.891067). Saving model...\n",
      "Epoch 14\n",
      "-------------------------------\n"
     ]
    },
    {
     "name": "stderr",
     "output_type": "stream",
     "text": [
      "Training: 100%|██████████| 398/398 [04:08<00:00,  1.60it/s, loss=-0.436, lr=0.00873]\n"
     ]
    },
    {
     "name": "stdout",
     "output_type": "stream",
     "text": [
      "Training Avg loss (per effective batch): -0.608866\n",
      "End of Epoch LR: 0.008731\n"
     ]
    },
    {
     "name": "stderr",
     "output_type": "stream",
     "text": [
      "Eval: 100%|██████████| 47/47 [00:12<00:00,  3.81it/s]\n"
     ]
    },
    {
     "name": "stdout",
     "output_type": "stream",
     "text": [
      "\n",
      "--- Evaluation Complete ---\n",
      "  Images Processed: 738\n",
      "  Average Loss (Original Size): -0.174870\n",
      "  Micro Avg Dice Score (3 classes): 0.896871\n",
      "  Macro Avg Dice Score (3 classes): 0.835690\n",
      "  Mean IoU (mIoU) (3 classes): 0.752743\n",
      "  --- Per-Class IoU ---\n",
      "    Class 0: 0.918848\n",
      "    Class 1: 0.629477\n",
      "    Class 2: 0.709904\n",
      "    Class 3: Ignored\n",
      "-------------------------\n",
      "Validation Micro Dice score improved (0.896871). Saving model...\n",
      "Epoch 15\n",
      "-------------------------------\n"
     ]
    },
    {
     "name": "stderr",
     "output_type": "stream",
     "text": [
      "Training: 100%|██████████| 398/398 [04:08<00:00,  1.60it/s, loss=6.66, lr=0.00864]  \n"
     ]
    },
    {
     "name": "stdout",
     "output_type": "stream",
     "text": [
      "Training Avg loss (per effective batch): -0.582145\n",
      "End of Epoch LR: 0.008639\n"
     ]
    },
    {
     "name": "stderr",
     "output_type": "stream",
     "text": [
      "Eval: 100%|██████████| 47/47 [00:12<00:00,  3.77it/s]\n"
     ]
    },
    {
     "name": "stdout",
     "output_type": "stream",
     "text": [
      "\n",
      "--- Evaluation Complete ---\n",
      "  Images Processed: 738\n",
      "  Average Loss (Original Size): -0.174541\n",
      "  Micro Avg Dice Score (3 classes): 0.901415\n",
      "  Macro Avg Dice Score (3 classes): 0.844754\n",
      "  Mean IoU (mIoU) (3 classes): 0.760491\n",
      "  --- Per-Class IoU ---\n",
      "    Class 0: 0.915805\n",
      "    Class 1: 0.625519\n",
      "    Class 2: 0.740150\n",
      "    Class 3: Ignored\n",
      "-------------------------\n",
      "Validation Micro Dice score improved (0.901415). Saving model...\n",
      "Epoch 16\n",
      "-------------------------------\n"
     ]
    },
    {
     "name": "stderr",
     "output_type": "stream",
     "text": [
      "Training: 100%|██████████| 398/398 [04:08<00:00,  1.60it/s, loss=0.021, lr=0.00855] \n"
     ]
    },
    {
     "name": "stdout",
     "output_type": "stream",
     "text": [
      "Training Avg loss (per effective batch): -0.668982\n",
      "End of Epoch LR: 0.008548\n"
     ]
    },
    {
     "name": "stderr",
     "output_type": "stream",
     "text": [
      "Eval: 100%|██████████| 47/47 [00:12<00:00,  3.77it/s]\n"
     ]
    },
    {
     "name": "stdout",
     "output_type": "stream",
     "text": [
      "\n",
      "--- Evaluation Complete ---\n",
      "  Images Processed: 738\n",
      "  Average Loss (Original Size): -0.013133\n",
      "  Micro Avg Dice Score (3 classes): 0.874279\n",
      "  Macro Avg Dice Score (3 classes): 0.815889\n",
      "  Mean IoU (mIoU) (3 classes): 0.716424\n",
      "  --- Per-Class IoU ---\n",
      "    Class 0: 0.893660\n",
      "    Class 1: 0.584897\n",
      "    Class 2: 0.670714\n",
      "    Class 3: Ignored\n",
      "-------------------------\n",
      "Validation Micro Dice score did not improve from 0.901415\n",
      "Epoch 17\n",
      "-------------------------------\n"
     ]
    },
    {
     "name": "stderr",
     "output_type": "stream",
     "text": [
      "Training: 100%|██████████| 398/398 [04:08<00:00,  1.60it/s, loss=0.497, lr=0.00846] \n"
     ]
    },
    {
     "name": "stdout",
     "output_type": "stream",
     "text": [
      "Training Avg loss (per effective batch): -0.680699\n",
      "End of Epoch LR: 0.008456\n"
     ]
    },
    {
     "name": "stderr",
     "output_type": "stream",
     "text": [
      "Eval: 100%|██████████| 47/47 [00:12<00:00,  3.79it/s]\n"
     ]
    },
    {
     "name": "stdout",
     "output_type": "stream",
     "text": [
      "\n",
      "--- Evaluation Complete ---\n",
      "  Images Processed: 738\n",
      "  Average Loss (Original Size): -0.157286\n",
      "  Micro Avg Dice Score (3 classes): 0.903021\n",
      "  Macro Avg Dice Score (3 classes): 0.851426\n",
      "  Mean IoU (mIoU) (3 classes): 0.766307\n",
      "  --- Per-Class IoU ---\n",
      "    Class 0: 0.916784\n",
      "    Class 1: 0.647491\n",
      "    Class 2: 0.734646\n",
      "    Class 3: Ignored\n",
      "-------------------------\n",
      "Validation Micro Dice score improved (0.903021). Saving model...\n",
      "Epoch 18\n",
      "-------------------------------\n"
     ]
    },
    {
     "name": "stderr",
     "output_type": "stream",
     "text": [
      "Training: 100%|██████████| 398/398 [04:08<00:00,  1.60it/s, loss=-0.0994, lr=0.00836]\n"
     ]
    },
    {
     "name": "stdout",
     "output_type": "stream",
     "text": [
      "Training Avg loss (per effective batch): -0.709810\n",
      "End of Epoch LR: 0.008364\n"
     ]
    },
    {
     "name": "stderr",
     "output_type": "stream",
     "text": [
      "Eval: 100%|██████████| 47/47 [00:12<00:00,  3.77it/s]\n"
     ]
    },
    {
     "name": "stdout",
     "output_type": "stream",
     "text": [
      "\n",
      "--- Evaluation Complete ---\n",
      "  Images Processed: 738\n",
      "  Average Loss (Original Size): 0.032275\n",
      "  Micro Avg Dice Score (3 classes): 0.881923\n",
      "  Macro Avg Dice Score (3 classes): 0.818218\n",
      "  Mean IoU (mIoU) (3 classes): 0.717110\n",
      "  --- Per-Class IoU ---\n",
      "    Class 0: 0.913253\n",
      "    Class 1: 0.597596\n",
      "    Class 2: 0.640481\n",
      "    Class 3: Ignored\n",
      "-------------------------\n",
      "Validation Micro Dice score did not improve from 0.903021\n",
      "Epoch 19\n",
      "-------------------------------\n"
     ]
    },
    {
     "name": "stderr",
     "output_type": "stream",
     "text": [
      "Training: 100%|██████████| 398/398 [04:08<00:00,  1.60it/s, loss=-0.538, lr=0.00827]\n"
     ]
    },
    {
     "name": "stdout",
     "output_type": "stream",
     "text": [
      "Training Avg loss (per effective batch): -0.737805\n",
      "End of Epoch LR: 0.008272\n"
     ]
    },
    {
     "name": "stderr",
     "output_type": "stream",
     "text": [
      "Eval: 100%|██████████| 47/47 [00:12<00:00,  3.80it/s]\n"
     ]
    },
    {
     "name": "stdout",
     "output_type": "stream",
     "text": [
      "\n",
      "--- Evaluation Complete ---\n",
      "  Images Processed: 738\n",
      "  Average Loss (Original Size): -0.081312\n",
      "  Micro Avg Dice Score (3 classes): 0.891703\n",
      "  Macro Avg Dice Score (3 classes): 0.833229\n",
      "  Mean IoU (mIoU) (3 classes): 0.738553\n",
      "  --- Per-Class IoU ---\n",
      "    Class 0: 0.916084\n",
      "    Class 1: 0.613560\n",
      "    Class 2: 0.686014\n",
      "    Class 3: Ignored\n",
      "-------------------------\n",
      "Validation Micro Dice score did not improve from 0.903021\n",
      "Epoch 20\n",
      "-------------------------------\n"
     ]
    },
    {
     "name": "stderr",
     "output_type": "stream",
     "text": [
      "Training: 100%|██████████| 398/398 [04:07<00:00,  1.61it/s, loss=-0.0199, lr=0.00818]\n"
     ]
    },
    {
     "name": "stdout",
     "output_type": "stream",
     "text": [
      "Training Avg loss (per effective batch): -0.749908\n",
      "End of Epoch LR: 0.008181\n"
     ]
    },
    {
     "name": "stderr",
     "output_type": "stream",
     "text": [
      "Eval: 100%|██████████| 47/47 [00:12<00:00,  3.78it/s]\n"
     ]
    },
    {
     "name": "stdout",
     "output_type": "stream",
     "text": [
      "\n",
      "--- Evaluation Complete ---\n",
      "  Images Processed: 738\n",
      "  Average Loss (Original Size): 0.899688\n",
      "  Micro Avg Dice Score (3 classes): 0.799518\n",
      "  Macro Avg Dice Score (3 classes): 0.649297\n",
      "  Mean IoU (mIoU) (3 classes): 0.531697\n",
      "  --- Per-Class IoU ---\n",
      "    Class 0: 0.913092\n",
      "    Class 1: 0.404771\n",
      "    Class 2: 0.277228\n",
      "    Class 3: Ignored\n",
      "-------------------------\n",
      "Validation Micro Dice score did not improve from 0.903021\n",
      "Epoch 21\n",
      "-------------------------------\n"
     ]
    },
    {
     "name": "stderr",
     "output_type": "stream",
     "text": [
      "Training: 100%|██████████| 398/398 [04:08<00:00,  1.60it/s, loss=-0.389, lr=0.00809]\n"
     ]
    },
    {
     "name": "stdout",
     "output_type": "stream",
     "text": [
      "Training Avg loss (per effective batch): -0.727739\n",
      "End of Epoch LR: 0.008088\n"
     ]
    },
    {
     "name": "stderr",
     "output_type": "stream",
     "text": [
      "Eval: 100%|██████████| 47/47 [00:12<00:00,  3.80it/s]\n"
     ]
    },
    {
     "name": "stdout",
     "output_type": "stream",
     "text": [
      "\n",
      "--- Evaluation Complete ---\n",
      "  Images Processed: 738\n",
      "  Average Loss (Original Size): -0.104086\n",
      "  Micro Avg Dice Score (3 classes): 0.892308\n",
      "  Macro Avg Dice Score (3 classes): 0.839677\n",
      "  Mean IoU (mIoU) (3 classes): 0.748698\n",
      "  --- Per-Class IoU ---\n",
      "    Class 0: 0.907622\n",
      "    Class 1: 0.637642\n",
      "    Class 2: 0.700830\n",
      "    Class 3: Ignored\n",
      "-------------------------\n",
      "Validation Micro Dice score did not improve from 0.903021\n",
      "Epoch 22\n",
      "-------------------------------\n"
     ]
    },
    {
     "name": "stderr",
     "output_type": "stream",
     "text": [
      "Training: 100%|██████████| 398/398 [04:08<00:00,  1.60it/s, loss=1.09, lr=0.008]    \n"
     ]
    },
    {
     "name": "stdout",
     "output_type": "stream",
     "text": [
      "Training Avg loss (per effective batch): -0.732838\n",
      "End of Epoch LR: 0.007996\n"
     ]
    },
    {
     "name": "stderr",
     "output_type": "stream",
     "text": [
      "Eval: 100%|██████████| 47/47 [00:12<00:00,  3.80it/s]\n"
     ]
    },
    {
     "name": "stdout",
     "output_type": "stream",
     "text": [
      "\n",
      "--- Evaluation Complete ---\n",
      "  Images Processed: 738\n",
      "  Average Loss (Original Size): -0.132659\n",
      "  Micro Avg Dice Score (3 classes): 0.905007\n",
      "  Macro Avg Dice Score (3 classes): 0.851859\n",
      "  Mean IoU (mIoU) (3 classes): 0.762710\n",
      "  --- Per-Class IoU ---\n",
      "    Class 0: 0.922886\n",
      "    Class 1: 0.646939\n",
      "    Class 2: 0.718305\n",
      "    Class 3: Ignored\n",
      "-------------------------\n",
      "Validation Micro Dice score improved (0.905007). Saving model...\n",
      "Epoch 23\n",
      "-------------------------------\n"
     ]
    },
    {
     "name": "stderr",
     "output_type": "stream",
     "text": [
      "Training: 100%|██████████| 398/398 [04:03<00:00,  1.63it/s, loss=-0.478, lr=0.0079] \n"
     ]
    },
    {
     "name": "stdout",
     "output_type": "stream",
     "text": [
      "Training Avg loss (per effective batch): -0.759292\n",
      "End of Epoch LR: 0.007904\n"
     ]
    },
    {
     "name": "stderr",
     "output_type": "stream",
     "text": [
      "Eval: 100%|██████████| 47/47 [00:12<00:00,  3.85it/s]\n"
     ]
    },
    {
     "name": "stdout",
     "output_type": "stream",
     "text": [
      "\n",
      "--- Evaluation Complete ---\n",
      "  Images Processed: 738\n",
      "  Average Loss (Original Size): -0.140170\n",
      "  Micro Avg Dice Score (3 classes): 0.905332\n",
      "  Macro Avg Dice Score (3 classes): 0.858605\n",
      "  Mean IoU (mIoU) (3 classes): 0.770534\n",
      "  --- Per-Class IoU ---\n",
      "    Class 0: 0.910437\n",
      "    Class 1: 0.653304\n",
      "    Class 2: 0.747862\n",
      "    Class 3: Ignored\n",
      "-------------------------\n",
      "Validation Micro Dice score improved (0.905332). Saving model...\n",
      "Epoch 24\n",
      "-------------------------------\n"
     ]
    },
    {
     "name": "stderr",
     "output_type": "stream",
     "text": [
      "Training: 100%|██████████| 398/398 [04:02<00:00,  1.64it/s, loss=-0.417, lr=0.00781]\n"
     ]
    },
    {
     "name": "stdout",
     "output_type": "stream",
     "text": [
      "Training Avg loss (per effective batch): -0.782193\n",
      "End of Epoch LR: 0.007811\n"
     ]
    },
    {
     "name": "stderr",
     "output_type": "stream",
     "text": [
      "Eval: 100%|██████████| 47/47 [00:12<00:00,  3.87it/s]\n"
     ]
    },
    {
     "name": "stdout",
     "output_type": "stream",
     "text": [
      "\n",
      "--- Evaluation Complete ---\n",
      "  Images Processed: 738\n",
      "  Average Loss (Original Size): -0.078221\n",
      "  Micro Avg Dice Score (3 classes): 0.906221\n",
      "  Macro Avg Dice Score (3 classes): 0.859772\n",
      "  Mean IoU (mIoU) (3 classes): 0.770347\n",
      "  --- Per-Class IoU ---\n",
      "    Class 0: 0.913930\n",
      "    Class 1: 0.661187\n",
      "    Class 2: 0.735924\n",
      "    Class 3: Ignored\n",
      "-------------------------\n",
      "Validation Micro Dice score improved (0.906221). Saving model...\n",
      "Epoch 25\n",
      "-------------------------------\n"
     ]
    },
    {
     "name": "stderr",
     "output_type": "stream",
     "text": [
      "Training: 100%|██████████| 398/398 [04:02<00:00,  1.64it/s, loss=-0.425, lr=0.00772]\n"
     ]
    },
    {
     "name": "stdout",
     "output_type": "stream",
     "text": [
      "Training Avg loss (per effective batch): -0.799508\n",
      "End of Epoch LR: 0.007719\n"
     ]
    },
    {
     "name": "stderr",
     "output_type": "stream",
     "text": [
      "Eval: 100%|██████████| 47/47 [00:12<00:00,  3.87it/s]\n"
     ]
    },
    {
     "name": "stdout",
     "output_type": "stream",
     "text": [
      "\n",
      "--- Evaluation Complete ---\n",
      "  Images Processed: 738\n",
      "  Average Loss (Original Size): -0.091266\n",
      "  Micro Avg Dice Score (3 classes): 0.909628\n",
      "  Macro Avg Dice Score (3 classes): 0.860667\n",
      "  Mean IoU (mIoU) (3 classes): 0.771923\n",
      "  --- Per-Class IoU ---\n",
      "    Class 0: 0.921536\n",
      "    Class 1: 0.661867\n",
      "    Class 2: 0.732365\n",
      "    Class 3: Ignored\n",
      "-------------------------\n",
      "Validation Micro Dice score improved (0.909628). Saving model...\n",
      "Epoch 26\n",
      "-------------------------------\n"
     ]
    },
    {
     "name": "stderr",
     "output_type": "stream",
     "text": [
      "Training: 100%|██████████| 398/398 [04:02<00:00,  1.64it/s, loss=-0.577, lr=0.00763]\n"
     ]
    },
    {
     "name": "stdout",
     "output_type": "stream",
     "text": [
      "Training Avg loss (per effective batch): -0.814438\n",
      "End of Epoch LR: 0.007626\n"
     ]
    },
    {
     "name": "stderr",
     "output_type": "stream",
     "text": [
      "Eval: 100%|██████████| 47/47 [00:12<00:00,  3.87it/s]\n"
     ]
    },
    {
     "name": "stdout",
     "output_type": "stream",
     "text": [
      "\n",
      "--- Evaluation Complete ---\n",
      "  Images Processed: 738\n",
      "  Average Loss (Original Size): -0.090380\n",
      "  Micro Avg Dice Score (3 classes): 0.914493\n",
      "  Macro Avg Dice Score (3 classes): 0.869492\n",
      "  Mean IoU (mIoU) (3 classes): 0.782997\n",
      "  --- Per-Class IoU ---\n",
      "    Class 0: 0.923286\n",
      "    Class 1: 0.675653\n",
      "    Class 2: 0.750052\n",
      "    Class 3: Ignored\n",
      "-------------------------\n",
      "Validation Micro Dice score improved (0.914493). Saving model...\n",
      "Epoch 27\n",
      "-------------------------------\n"
     ]
    },
    {
     "name": "stderr",
     "output_type": "stream",
     "text": [
      "Training: 100%|██████████| 398/398 [04:02<00:00,  1.64it/s, loss=-0.474, lr=0.00753]\n"
     ]
    },
    {
     "name": "stdout",
     "output_type": "stream",
     "text": [
      "Training Avg loss (per effective batch): -0.826193\n",
      "End of Epoch LR: 0.007533\n"
     ]
    },
    {
     "name": "stderr",
     "output_type": "stream",
     "text": [
      "Eval: 100%|██████████| 47/47 [00:12<00:00,  3.89it/s]\n"
     ]
    },
    {
     "name": "stdout",
     "output_type": "stream",
     "text": [
      "\n",
      "--- Evaluation Complete ---\n",
      "  Images Processed: 738\n",
      "  Average Loss (Original Size): -0.026397\n",
      "  Micro Avg Dice Score (3 classes): 0.913076\n",
      "  Macro Avg Dice Score (3 classes): 0.867254\n",
      "  Mean IoU (mIoU) (3 classes): 0.778154\n",
      "  --- Per-Class IoU ---\n",
      "    Class 0: 0.921862\n",
      "    Class 1: 0.669223\n",
      "    Class 2: 0.743379\n",
      "    Class 3: Ignored\n",
      "-------------------------\n",
      "Validation Micro Dice score did not improve from 0.914493\n",
      "Epoch 28\n",
      "-------------------------------\n"
     ]
    },
    {
     "name": "stderr",
     "output_type": "stream",
     "text": [
      "Training: 100%|██████████| 398/398 [04:02<00:00,  1.64it/s, loss=-0.457, lr=0.00744]\n"
     ]
    },
    {
     "name": "stdout",
     "output_type": "stream",
     "text": [
      "Training Avg loss (per effective batch): -0.835701\n",
      "End of Epoch LR: 0.007440\n"
     ]
    },
    {
     "name": "stderr",
     "output_type": "stream",
     "text": [
      "Eval: 100%|██████████| 47/47 [00:12<00:00,  3.84it/s]\n"
     ]
    },
    {
     "name": "stdout",
     "output_type": "stream",
     "text": [
      "\n",
      "--- Evaluation Complete ---\n",
      "  Images Processed: 738\n",
      "  Average Loss (Original Size): -0.036733\n",
      "  Micro Avg Dice Score (3 classes): 0.911637\n",
      "  Macro Avg Dice Score (3 classes): 0.862789\n",
      "  Mean IoU (mIoU) (3 classes): 0.772161\n",
      "  --- Per-Class IoU ---\n",
      "    Class 0: 0.923644\n",
      "    Class 1: 0.658298\n",
      "    Class 2: 0.734542\n",
      "    Class 3: Ignored\n",
      "-------------------------\n",
      "Validation Micro Dice score did not improve from 0.914493\n",
      "Epoch 29\n",
      "-------------------------------\n"
     ]
    },
    {
     "name": "stderr",
     "output_type": "stream",
     "text": [
      "Training: 100%|██████████| 398/398 [04:02<00:00,  1.64it/s, loss=4.09, lr=0.00735]  \n"
     ]
    },
    {
     "name": "stdout",
     "output_type": "stream",
     "text": [
      "Training Avg loss (per effective batch): -0.798903\n",
      "End of Epoch LR: 0.007347\n"
     ]
    },
    {
     "name": "stderr",
     "output_type": "stream",
     "text": [
      "Eval: 100%|██████████| 47/47 [00:12<00:00,  3.88it/s]\n"
     ]
    },
    {
     "name": "stdout",
     "output_type": "stream",
     "text": [
      "\n",
      "--- Evaluation Complete ---\n",
      "  Images Processed: 738\n",
      "  Average Loss (Original Size): 0.053833\n",
      "  Micro Avg Dice Score (3 classes): 0.905768\n",
      "  Macro Avg Dice Score (3 classes): 0.849812\n",
      "  Mean IoU (mIoU) (3 classes): 0.753568\n",
      "  --- Per-Class IoU ---\n",
      "    Class 0: 0.922392\n",
      "    Class 1: 0.636182\n",
      "    Class 2: 0.702131\n",
      "    Class 3: Ignored\n",
      "-------------------------\n",
      "Validation Micro Dice score did not improve from 0.914493\n",
      "Epoch 30\n",
      "-------------------------------\n"
     ]
    },
    {
     "name": "stderr",
     "output_type": "stream",
     "text": [
      "Training: 100%|██████████| 398/398 [04:02<00:00,  1.64it/s, loss=-0.37, lr=0.00725] \n"
     ]
    },
    {
     "name": "stdout",
     "output_type": "stream",
     "text": [
      "Training Avg loss (per effective batch): -0.770887\n",
      "End of Epoch LR: 0.007254\n"
     ]
    },
    {
     "name": "stderr",
     "output_type": "stream",
     "text": [
      "Eval: 100%|██████████| 47/47 [00:12<00:00,  3.80it/s]\n"
     ]
    },
    {
     "name": "stdout",
     "output_type": "stream",
     "text": [
      "\n",
      "--- Evaluation Complete ---\n",
      "  Images Processed: 738\n",
      "  Average Loss (Original Size): -0.111375\n",
      "  Micro Avg Dice Score (3 classes): 0.904093\n",
      "  Macro Avg Dice Score (3 classes): 0.853267\n",
      "  Mean IoU (mIoU) (3 classes): 0.763428\n",
      "  --- Per-Class IoU ---\n",
      "    Class 0: 0.915536\n",
      "    Class 1: 0.642593\n",
      "    Class 2: 0.732154\n",
      "    Class 3: Ignored\n",
      "-------------------------\n",
      "Validation Micro Dice score did not improve from 0.914493\n",
      "Epoch 31\n",
      "-------------------------------\n"
     ]
    },
    {
     "name": "stderr",
     "output_type": "stream",
     "text": [
      "Training: 100%|██████████| 398/398 [04:03<00:00,  1.64it/s, loss=-0.468, lr=0.00716]\n"
     ]
    },
    {
     "name": "stdout",
     "output_type": "stream",
     "text": [
      "Training Avg loss (per effective batch): -0.791927\n",
      "End of Epoch LR: 0.007161\n"
     ]
    },
    {
     "name": "stderr",
     "output_type": "stream",
     "text": [
      "Eval: 100%|██████████| 47/47 [00:12<00:00,  3.85it/s]\n"
     ]
    },
    {
     "name": "stdout",
     "output_type": "stream",
     "text": [
      "\n",
      "--- Evaluation Complete ---\n",
      "  Images Processed: 738\n",
      "  Average Loss (Original Size): 0.008059\n",
      "  Micro Avg Dice Score (3 classes): 0.893814\n",
      "  Macro Avg Dice Score (3 classes): 0.837766\n",
      "  Mean IoU (mIoU) (3 classes): 0.737974\n",
      "  --- Per-Class IoU ---\n",
      "    Class 0: 0.910835\n",
      "    Class 1: 0.611137\n",
      "    Class 2: 0.691949\n",
      "    Class 3: Ignored\n",
      "-------------------------\n",
      "Validation Micro Dice score did not improve from 0.914493\n",
      "Epoch 32\n",
      "-------------------------------\n"
     ]
    },
    {
     "name": "stderr",
     "output_type": "stream",
     "text": [
      "Training: 100%|██████████| 398/398 [04:08<00:00,  1.60it/s, loss=-0.28, lr=0.00707] \n"
     ]
    },
    {
     "name": "stdout",
     "output_type": "stream",
     "text": [
      "Training Avg loss (per effective batch): -0.813934\n",
      "End of Epoch LR: 0.007067\n"
     ]
    },
    {
     "name": "stderr",
     "output_type": "stream",
     "text": [
      "Eval: 100%|██████████| 47/47 [00:12<00:00,  3.78it/s]\n"
     ]
    },
    {
     "name": "stdout",
     "output_type": "stream",
     "text": [
      "\n",
      "--- Evaluation Complete ---\n",
      "  Images Processed: 738\n",
      "  Average Loss (Original Size): -0.012830\n",
      "  Micro Avg Dice Score (3 classes): 0.902364\n",
      "  Macro Avg Dice Score (3 classes): 0.854354\n",
      "  Mean IoU (mIoU) (3 classes): 0.760162\n",
      "  --- Per-Class IoU ---\n",
      "    Class 0: 0.907686\n",
      "    Class 1: 0.650195\n",
      "    Class 2: 0.722604\n",
      "    Class 3: Ignored\n",
      "-------------------------\n",
      "Validation Micro Dice score did not improve from 0.914493\n",
      "Epoch 33\n",
      "-------------------------------\n"
     ]
    },
    {
     "name": "stderr",
     "output_type": "stream",
     "text": [
      "Training: 100%|██████████| 398/398 [04:08<00:00,  1.60it/s, loss=-0.554, lr=0.00697]\n"
     ]
    },
    {
     "name": "stdout",
     "output_type": "stream",
     "text": [
      "Training Avg loss (per effective batch): -0.801777\n",
      "End of Epoch LR: 0.006974\n"
     ]
    },
    {
     "name": "stderr",
     "output_type": "stream",
     "text": [
      "Eval: 100%|██████████| 47/47 [00:12<00:00,  3.79it/s]\n"
     ]
    },
    {
     "name": "stdout",
     "output_type": "stream",
     "text": [
      "\n",
      "--- Evaluation Complete ---\n",
      "  Images Processed: 738\n",
      "  Average Loss (Original Size): -0.037405\n",
      "  Micro Avg Dice Score (3 classes): 0.896886\n",
      "  Macro Avg Dice Score (3 classes): 0.841187\n",
      "  Mean IoU (mIoU) (3 classes): 0.744325\n",
      "  --- Per-Class IoU ---\n",
      "    Class 0: 0.915103\n",
      "    Class 1: 0.624353\n",
      "    Class 2: 0.693520\n",
      "    Class 3: Ignored\n",
      "-------------------------\n",
      "Validation Micro Dice score did not improve from 0.914493\n",
      "Epoch 34\n",
      "-------------------------------\n"
     ]
    },
    {
     "name": "stderr",
     "output_type": "stream",
     "text": [
      "Training: 100%|██████████| 398/398 [04:08<00:00,  1.60it/s, loss=-0.605, lr=0.00688]\n"
     ]
    },
    {
     "name": "stdout",
     "output_type": "stream",
     "text": [
      "Training Avg loss (per effective batch): -0.828477\n",
      "End of Epoch LR: 0.006880\n"
     ]
    },
    {
     "name": "stderr",
     "output_type": "stream",
     "text": [
      "Eval: 100%|██████████| 47/47 [00:12<00:00,  3.79it/s]\n"
     ]
    },
    {
     "name": "stdout",
     "output_type": "stream",
     "text": [
      "\n",
      "--- Evaluation Complete ---\n",
      "  Images Processed: 738\n",
      "  Average Loss (Original Size): -0.022638\n",
      "  Micro Avg Dice Score (3 classes): 0.906981\n",
      "  Macro Avg Dice Score (3 classes): 0.855418\n",
      "  Mean IoU (mIoU) (3 classes): 0.761884\n",
      "  --- Per-Class IoU ---\n",
      "    Class 0: 0.921471\n",
      "    Class 1: 0.647495\n",
      "    Class 2: 0.716687\n",
      "    Class 3: Ignored\n",
      "-------------------------\n",
      "Validation Micro Dice score did not improve from 0.914493\n",
      "Epoch 35\n",
      "-------------------------------\n"
     ]
    },
    {
     "name": "stderr",
     "output_type": "stream",
     "text": [
      "Training: 100%|██████████| 398/398 [04:08<00:00,  1.60it/s, loss=-0.624, lr=0.00679]\n"
     ]
    },
    {
     "name": "stdout",
     "output_type": "stream",
     "text": [
      "Training Avg loss (per effective batch): -0.846358\n",
      "End of Epoch LR: 0.006786\n"
     ]
    },
    {
     "name": "stderr",
     "output_type": "stream",
     "text": [
      "Eval: 100%|██████████| 47/47 [00:12<00:00,  3.78it/s]\n"
     ]
    },
    {
     "name": "stdout",
     "output_type": "stream",
     "text": [
      "\n",
      "--- Evaluation Complete ---\n",
      "  Images Processed: 738\n",
      "  Average Loss (Original Size): -0.066175\n",
      "  Micro Avg Dice Score (3 classes): 0.912618\n",
      "  Macro Avg Dice Score (3 classes): 0.865250\n",
      "  Mean IoU (mIoU) (3 classes): 0.775747\n",
      "  --- Per-Class IoU ---\n",
      "    Class 0: 0.921649\n",
      "    Class 1: 0.662537\n",
      "    Class 2: 0.743056\n",
      "    Class 3: Ignored\n",
      "-------------------------\n",
      "Validation Micro Dice score did not improve from 0.914493\n",
      "Epoch 36\n",
      "-------------------------------\n"
     ]
    },
    {
     "name": "stderr",
     "output_type": "stream",
     "text": [
      "Training: 100%|██████████| 398/398 [04:08<00:00,  1.60it/s, loss=2.19, lr=0.00669]  \n"
     ]
    },
    {
     "name": "stdout",
     "output_type": "stream",
     "text": [
      "Training Avg loss (per effective batch): -0.831859\n",
      "End of Epoch LR: 0.006692\n"
     ]
    },
    {
     "name": "stderr",
     "output_type": "stream",
     "text": [
      "Eval: 100%|██████████| 47/47 [00:12<00:00,  3.79it/s]\n"
     ]
    },
    {
     "name": "stdout",
     "output_type": "stream",
     "text": [
      "\n",
      "--- Evaluation Complete ---\n",
      "  Images Processed: 738\n",
      "  Average Loss (Original Size): -0.046474\n",
      "  Micro Avg Dice Score (3 classes): 0.915722\n",
      "  Macro Avg Dice Score (3 classes): 0.867327\n",
      "  Mean IoU (mIoU) (3 classes): 0.777620\n",
      "  --- Per-Class IoU ---\n",
      "    Class 0: 0.924177\n",
      "    Class 1: 0.656032\n",
      "    Class 2: 0.752651\n",
      "    Class 3: Ignored\n",
      "-------------------------\n",
      "Validation Micro Dice score improved (0.915722). Saving model...\n",
      "Epoch 37\n",
      "-------------------------------\n"
     ]
    },
    {
     "name": "stderr",
     "output_type": "stream",
     "text": [
      "Training: 100%|██████████| 398/398 [04:08<00:00,  1.60it/s, loss=-0.633, lr=0.0066] \n"
     ]
    },
    {
     "name": "stdout",
     "output_type": "stream",
     "text": [
      "Training Avg loss (per effective batch): -0.846232\n",
      "End of Epoch LR: 0.006598\n"
     ]
    },
    {
     "name": "stderr",
     "output_type": "stream",
     "text": [
      "Eval: 100%|██████████| 47/47 [00:12<00:00,  3.80it/s]\n"
     ]
    },
    {
     "name": "stdout",
     "output_type": "stream",
     "text": [
      "\n",
      "--- Evaluation Complete ---\n",
      "  Images Processed: 738\n",
      "  Average Loss (Original Size): -0.112981\n",
      "  Micro Avg Dice Score (3 classes): 0.914875\n",
      "  Macro Avg Dice Score (3 classes): 0.867145\n",
      "  Mean IoU (mIoU) (3 classes): 0.779264\n",
      "  --- Per-Class IoU ---\n",
      "    Class 0: 0.925453\n",
      "    Class 1: 0.669860\n",
      "    Class 2: 0.742479\n",
      "    Class 3: Ignored\n",
      "-------------------------\n",
      "Validation Micro Dice score did not improve from 0.915722\n",
      "Epoch 38\n",
      "-------------------------------\n"
     ]
    },
    {
     "name": "stderr",
     "output_type": "stream",
     "text": [
      "Training: 100%|██████████| 398/398 [04:08<00:00,  1.60it/s, loss=-0.623, lr=0.0065] \n"
     ]
    },
    {
     "name": "stdout",
     "output_type": "stream",
     "text": [
      "Training Avg loss (per effective batch): -0.859168\n",
      "End of Epoch LR: 0.006504\n"
     ]
    },
    {
     "name": "stderr",
     "output_type": "stream",
     "text": [
      "Eval: 100%|██████████| 47/47 [00:12<00:00,  3.79it/s]\n"
     ]
    },
    {
     "name": "stdout",
     "output_type": "stream",
     "text": [
      "\n",
      "--- Evaluation Complete ---\n",
      "  Images Processed: 738\n",
      "  Average Loss (Original Size): -0.045525\n",
      "  Micro Avg Dice Score (3 classes): 0.913227\n",
      "  Macro Avg Dice Score (3 classes): 0.868229\n",
      "  Mean IoU (mIoU) (3 classes): 0.778410\n",
      "  --- Per-Class IoU ---\n",
      "    Class 0: 0.918585\n",
      "    Class 1: 0.669273\n",
      "    Class 2: 0.747372\n",
      "    Class 3: Ignored\n",
      "-------------------------\n",
      "Validation Micro Dice score did not improve from 0.915722\n",
      "Epoch 39\n",
      "-------------------------------\n"
     ]
    },
    {
     "name": "stderr",
     "output_type": "stream",
     "text": [
      "Training: 100%|██████████| 398/398 [04:08<00:00,  1.60it/s, loss=-0.107, lr=0.00641]\n"
     ]
    },
    {
     "name": "stdout",
     "output_type": "stream",
     "text": [
      "Training Avg loss (per effective batch): -0.864434\n",
      "End of Epoch LR: 0.006409\n"
     ]
    },
    {
     "name": "stderr",
     "output_type": "stream",
     "text": [
      "Eval: 100%|██████████| 47/47 [00:12<00:00,  3.78it/s]\n"
     ]
    },
    {
     "name": "stdout",
     "output_type": "stream",
     "text": [
      "\n",
      "--- Evaluation Complete ---\n",
      "  Images Processed: 738\n",
      "  Average Loss (Original Size): -0.032987\n",
      "  Micro Avg Dice Score (3 classes): 0.914131\n",
      "  Macro Avg Dice Score (3 classes): 0.867476\n",
      "  Mean IoU (mIoU) (3 classes): 0.777023\n",
      "  --- Per-Class IoU ---\n",
      "    Class 0: 0.921240\n",
      "    Class 1: 0.668673\n",
      "    Class 2: 0.741155\n",
      "    Class 3: Ignored\n",
      "-------------------------\n",
      "Validation Micro Dice score did not improve from 0.915722\n",
      "Epoch 40\n",
      "-------------------------------\n"
     ]
    },
    {
     "name": "stderr",
     "output_type": "stream",
     "text": [
      "Training: 100%|██████████| 398/398 [04:08<00:00,  1.60it/s, loss=-0.667, lr=0.00631]\n"
     ]
    },
    {
     "name": "stdout",
     "output_type": "stream",
     "text": [
      "Training Avg loss (per effective batch): -0.868912\n",
      "End of Epoch LR: 0.006314\n"
     ]
    },
    {
     "name": "stderr",
     "output_type": "stream",
     "text": [
      "Eval: 100%|██████████| 47/47 [00:12<00:00,  3.79it/s]\n"
     ]
    },
    {
     "name": "stdout",
     "output_type": "stream",
     "text": [
      "\n",
      "--- Evaluation Complete ---\n",
      "  Images Processed: 738\n",
      "  Average Loss (Original Size): -0.031437\n",
      "  Micro Avg Dice Score (3 classes): 0.913215\n",
      "  Macro Avg Dice Score (3 classes): 0.863403\n",
      "  Mean IoU (mIoU) (3 classes): 0.771896\n",
      "  --- Per-Class IoU ---\n",
      "    Class 0: 0.924718\n",
      "    Class 1: 0.654043\n",
      "    Class 2: 0.736927\n",
      "    Class 3: Ignored\n",
      "-------------------------\n",
      "Validation Micro Dice score did not improve from 0.915722\n",
      "Epoch 41\n",
      "-------------------------------\n"
     ]
    },
    {
     "name": "stderr",
     "output_type": "stream",
     "text": [
      "Training:  81%|████████  | 323/398 [03:21<00:45,  1.64it/s, loss=-0.888, lr=0.00624]"
     ]
    }
   ],
   "source": [
    "from unet.unet import unet\n",
    "from unet.old_unet import old_unet\n",
    "from unet.small_unet import small_unet\n",
    "from unet.train import train_loop, eval_loop\n",
    "from unet.weighted_loss import WeightedDiceCELoss\n",
    "from utils import calculate_class_weights, dataset, target_remap, diff_size_collate\n",
    "\n",
    "import os\n",
    "import torch\n",
    "import numpy as np\n",
    "import torch.optim as optim\n",
    "from torch import Tensor\n",
    "from torch.utils.data import DataLoader\n",
    "from torch.optim.lr_scheduler import PolynomialLR\n",
    "\n",
    "\n",
    "MODEL_NAME = \"unet_no_weight_small_aug.pytorch\"\n",
    "MODEL_SAVE_DIR = \"unet\" # Changed path\n",
    "EPOCHS = 100\n",
    "INITIAL_LR = 0.01 # Standard nnU-Net initial LR for SGD\n",
    "WEIGHT_DECAY = 3e-5 # A common weight decay value, adjust if needed\n",
    "SGD_MOMENTUM = 0.99 # nnU-Net standard momentum\n",
    "EVAL_IGNORE_INDEX = 3 # Example: ignore class 3 during evaluation metric calculation\n",
    "TRAIN_IGNORE_INDEX = None  # Example: train on all classes (0,1,2,3)\n",
    "\n",
    "target_batch_size = 64\n",
    "batch_size = 16\n",
    "accumulation_steps = target_batch_size // batch_size\n",
    "\n",
    "rstrain_class_weight = [0.2522619315139025, 2.276146019093149, 1.2193301178790457, 0.2522619315139025]\n",
    "astrain_class_weight = [0.30711034803008996, 1.5412496145750956, 1.8445296893647247, 0.30711034803008996]\n",
    "no_weight = [1,1,1,1]\n",
    "\n",
    "\n",
    "training_data = dataset(\"astrain/color\", \"astrain/label\", target_transform=target_remap())\n",
    "val_data = dataset(\"Val/color\", \"Val/label\", target_transform=target_remap())\n",
    "test_data = dataset(\"Test/color\", \"Test/label\", target_transform=target_remap())\n",
    "\n",
    "train_dataloader = DataLoader(training_data, batch_size=batch_size, shuffle=True, pin_memory=True)\n",
    "val_dataloader = DataLoader(val_data, batch_size=batch_size, shuffle=True, pin_memory=True, collate_fn=diff_size_collate)\n",
    "test_dataloader = DataLoader(test_data, batch_size=batch_size, shuffle=True, pin_memory=True, collate_fn=diff_size_collate)\n",
    "\n",
    "# class_weight = calculate_class_weights(training_data, 4, None, \"dataset\", [3])\n",
    "\n",
    "# --- Define Model, Loss, Optimizer, Scheduler ---\n",
    "if torch.backends.mps.is_available():\n",
    "    device = torch.device(\"mps\")\n",
    "elif torch.cuda.is_available():\n",
    "    device = torch.device(\"cuda\")\n",
    "else:\n",
    "    device = torch.device(\"cpu\")\n",
    "    \n",
    "model = unet().to(device) # Assuming unet() exists and returns your U-Net model\n",
    "\n",
    "\n",
    "class_weight = Tensor(no_weight).to(device)\n",
    "loss_fn = WeightedDiceCELoss(ignore_index=TRAIN_IGNORE_INDEX, smooth_dice=1, class_weights=class_weight) # Training loss\n",
    "# Evaluation loss object used inside eval loop only to get settings like ignore_index\n",
    "# It is NOT used to calculate the loss score reported for eval (that uses training loss object)\n",
    "# But we pass it to eval_loop so it knows which index to ignore for metric calc if needed\n",
    "eval_settings_provider = WeightedDiceCELoss(ignore_index=EVAL_IGNORE_INDEX, class_weights=class_weight)\n",
    "\n",
    "\n",
    "optimizer = optim.SGD(model.parameters(), lr=INITIAL_LR, momentum=SGD_MOMENTUM,\n",
    "                      weight_decay=WEIGHT_DECAY, nesterov=True)\n",
    "\n",
    "steps_per_epoch = (len(train_dataloader) // accumulation_steps) + (1 if len(train_dataloader) % accumulation_steps != 0 else 0)\n",
    "total_iters = steps_per_epoch * EPOCHS\n",
    "scheduler = PolynomialLR(optimizer, total_iters=total_iters, power=0.9)\n",
    "\n",
    "start_epoch = 0\n",
    "best_dev_dice = -np.inf # Track best Dice score\n",
    "best_dev_miou = -np.inf # Track best mIoU\n",
    "best_dev_loss = np.inf # Track loss corresponding to best metric\n",
    "\n",
    "if os.path.isfile(f\"{MODEL_SAVE_DIR}/{MODEL_NAME}\"):\n",
    "    print(f\"Loading checkpoint from: unet/{MODEL_NAME}\")\n",
    "    # Load the checkpoint dictionary; move tensors to the correct device\n",
    "    checkpoint = torch.load(f\"unet/{MODEL_NAME}\", map_location=device)\n",
    "\n",
    "    # Load model state\n",
    "    model.load_state_dict(checkpoint[\"model_state_dict\"])\n",
    "    print(\" -> Model state loaded.\")\n",
    "\n",
    "    # Load optimizer state\n",
    "    try:\n",
    "        optimizer.load_state_dict(checkpoint[\"optimizer_state_dict\"])\n",
    "        print(\" -> Optimizer state loaded.\")\n",
    "    except Exception as e:\n",
    "        print(f\" -> Warning: Could not load optimizer state: {e}. Optimizer will start from scratch.\")\n",
    "\n",
    "    # Load scheduler state\n",
    "    try:\n",
    "        scheduler.load_state_dict(checkpoint[\"scheduler_state_dict\"])\n",
    "        print(\" -> Scheduler state loaded.\")\n",
    "    except Exception as e:\n",
    "        print(f\" -> Warning: Could not load scheduler state: {e}. Scheduler will start from scratch.\")\n",
    "\n",
    "\n",
    "    # Load training metadata\n",
    "    start_epoch = checkpoint.get(\"epoch\", 0) # Load last completed epoch, training continues from next one\n",
    "    best_dev_dice = checkpoint.get(\"best_dev_dice\", -np.inf)\n",
    "    best_dev_miou = checkpoint.get(\"best_dev_miou\", -np.inf)\n",
    "    best_dev_loss = checkpoint.get(\"best_dev_loss\", np.inf)\n",
    "\n",
    "    print(f\" -> Resuming training from epoch {start_epoch + 1}\")\n",
    "    print(f\" -> Loaded best metrics: Dice={best_dev_dice:.6f}, mIoU={best_dev_miou:.6f}, Loss={best_dev_loss:.6f}\")\n",
    "    loaded_notes = checkpoint.get(\"notes\", \"N/A\")\n",
    "    print(f\" -> Notes from checkpoint: {loaded_notes}\")\n",
    "\n",
    "else:\n",
    "    print(f\"Checkpoint file not found at unet/{MODEL_NAME}. Starting training from scratch.\")\n",
    "\n",
    "# --- Training and Evaluation Loop ---\n",
    "print(\"\\nStarting Training (nnU-Net style)...\")\n",
    "for t in range(start_epoch, EPOCHS):\n",
    "    current_epoch = t + 1\n",
    "    print(f\"Epoch {t+1}\\n-------------------------------\")\n",
    "    train_loss = train_loop(train_dataloader, model, loss_fn, optimizer, scheduler, accumulation_steps, device)\n",
    "\n",
    "    # Pass the eval_settings_provider to eval_loop\n",
    "    val_loss, val_dice_micro, val_miou = eval_loop(val_dataloader, model, eval_settings_provider, device, 256)\n",
    "\n",
    "    # Save model based on validation MICRO DICE score improvement\n",
    "    # Could also choose mIoU validation by changing 'val_dice_micro > best_dev_dice'\n",
    "    if val_dice_micro > best_dev_dice:\n",
    "        best_dev_dice = val_dice_micro\n",
    "        best_dev_miou = val_miou # Save corresponding mIoU\n",
    "        best_dev_loss = val_loss # Save corresponding loss\n",
    "        print(f\"Validation Micro Dice score improved ({best_dev_dice:.6f}). Saving model...\")\n",
    "        checkpoint_path = os.path.join(MODEL_SAVE_DIR, f\"{MODEL_NAME}\") # Changed name\n",
    "        checkpoint = {\n",
    "            \"epoch\": t + 1,\n",
    "            \"model_state_dict\": model.state_dict(),\n",
    "            \"optimizer_state_dict\": optimizer.state_dict(),\n",
    "            \"scheduler_state_dict\": scheduler.state_dict(),\n",
    "            \"best_dev_dice\": best_dev_dice,\n",
    "            \"best_dev_miou\": best_dev_miou,\n",
    "            \"best_dev_loss\": best_dev_loss,\n",
    "            \"notes\": f\"Model saved based on best Micro Dice. Ignored index for metric: {EVAL_IGNORE_INDEX}\"\n",
    "        }\n",
    "        torch.save(checkpoint, checkpoint_path)\n",
    "    else:\n",
    "        print(f\"Validation Micro Dice score did not improve from {best_dev_dice:.6f}\")\n",
    "\n",
    "print(\"\\n--- Training Finished! ---\")\n",
    "print(f\"Best validation Micro Dice score achieved: {best_dev_dice:.6f}\")\n",
    "print(f\"Corresponding validation mIoU: {best_dev_miou:.6f}\")\n",
    "print(f\"Corresponding validation loss: {best_dev_loss:.6f}\")\n",
    "print(f\"Best model saved to: {os.path.join(MODEL_SAVE_DIR, f'{MODEL_NAME}')}\")"
   ]
  },
  {
   "cell_type": "markdown",
   "metadata": {},
   "source": [
    "## EVAL Tester"
   ]
  },
  {
   "cell_type": "code",
   "execution_count": 39,
   "metadata": {},
   "outputs": [
    {
     "name": "stdout",
     "output_type": "stream",
     "text": [
      "torch.Size([4, 500, 334])\n"
     ]
    },
    {
     "data": {
      "image/png": "[encoded data removed]",
      "text/plain": [
       "<Figure size 640x480 with 1 Axes>"
      ]
     },
     "metadata": {},
     "output_type": "display_data"
    },
    {
     "data": {
      "image/png": "[encoded data removed]",
      "text/plain": [
       "<Figure size 640x480 with 1 Axes>"
      ]
     },
     "metadata": {},
     "output_type": "display_data"
    },
    {
     "data": {
      "image/png": "[encoded data removed]",
      "text/plain": [
       "<Figure size 640x480 with 1 Axes>"
      ]
     },
     "metadata": {},
     "output_type": "display_data"
    }
   ],
   "source": [
    "model = unet().to(device)\n",
    "class_weight = class_weight.to(device)\n",
    "loss_fn = WeightedDiceCELoss(ignore_index=3, class_weights=class_weight)\n",
    "\n",
    "\n",
    "# optimizer = optim.SGD(model.parameters(), lr=INITIAL_LR, momentum=SGD_MOMENTUM,\n",
    "#                       weight_decay=WEIGHT_DECAY, nesterov=True)\n",
    "\n",
    "# total_iters = (len(train_dataloader) // accumulation_steps) * EPOCHS\n",
    "# scheduler = PolynomialLR(optimizer, total_iters=total_iters, power=0.9)\n",
    "\n",
    "checkpoint = torch.load(\"unet/unet_weighted_small_no_aug_same_weight.pytorch\")\n",
    "\n",
    "model.load_state_dict(checkpoint[\"model_state_dict\"])\n",
    "# optimizer.load_state_dict(checkpoint[\"optimizer\"])\n",
    "# scaler.load_state_dict(checkpoint[\"scaler\"])\n",
    "\n",
    "model.to(device)\n",
    "\n",
    "images, labels = next(iter(test_dataloader))\n",
    "images, meta = process_batch_forward(images, 256)\n",
    "\n",
    "pred = model(images.to(device))\n",
    "\n",
    "images = process_batch_reverse(pred, meta)\n",
    "\n",
    "print(images[0].shape)\n",
    "\n",
    "plt.imshow(pred[0].argmax(dim=0).cpu().numpy())\n",
    "plt.show()\n",
    "plt.imshow(images[0].argmax(dim=0).cpu().numpy())\n",
    "plt.show()\n",
    "plt.imshow(labels[0].permute(1,2,0).cpu().numpy())\n",
    "plt.show()\n",
    "# new_dev_loss = eval_loop(test_dataloader, model, loss_fn, device, 256)"
   ]
  },
  {
   "cell_type": "markdown",
   "metadata": {},
   "source": [
    "## Dice Tester"
   ]
  },
  {
   "cell_type": "code",
   "execution_count": null,
   "metadata": {},
   "outputs": [],
   "source": [
    "X, y = next(iter(train_dataloader))\n",
    "X = X.to(device)\n",
    "y = y.to(device)\n",
    "\n",
    "dice = MemoryEfficientDiceLoss()\n",
    "\n",
    "model = unet().to(device)\n",
    "checkpoint = torch.load(\"unet/checkpoint\")\n",
    "model.load_state_dict(checkpoint[\"model\"])\n",
    "model.to(device)\n",
    "\n",
    "pred = model(X[0].unsqueeze(0))\n",
    "\n",
    "print(dice(pred, y[0].unsqueeze(0)))"
   ]
  },
  {
   "cell_type": "code",
   "execution_count": 1,
   "metadata": {},
   "outputs": [
    {
     "data": {
      "text/plain": [
       "'/home/andre/Image_Segmentation'"
      ]
     },
     "execution_count": 1,
     "metadata": {},
     "output_type": "execute_result"
    }
   ],
   "source": [
    "import os; os.getcwd()"
   ]
  },
  {
   "cell_type": "code",
   "execution_count": null,
   "metadata": {},
   "outputs": [],
   "source": []
  }
 ],
 "metadata": {
  "kernelspec": {
   "display_name": "cv",
   "language": "python",
   "name": "python3"
  },
  "language_info": {
   "codemirror_mode": {
    "name": "ipython",
    "version": 3
   },
   "file_extension": ".py",
   "mimetype": "text/x-python",
   "name": "python",
   "nbconvert_exporter": "python",
   "pygments_lexer": "ipython3",
   "version": "3.10.13"
  }
 },
 "nbformat": 4,
 "nbformat_minor": 2
}
